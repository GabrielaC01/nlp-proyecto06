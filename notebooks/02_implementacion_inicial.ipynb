{
 "cells": [
  {
   "cell_type": "code",
   "execution_count": 1,
   "id": "47ab6cb1",
   "metadata": {},
   "outputs": [],
   "source": [
    "import sys\n",
    "sys.path.append(\"../src\")"
   ]
  },
  {
   "cell_type": "code",
   "execution_count": 2,
   "id": "f0d8f6cc",
   "metadata": {},
   "outputs": [],
   "source": [
    "from ntm import NeuralTuringMachine\n",
    "import torch"
   ]
  },
  {
   "cell_type": "code",
   "execution_count": 3,
   "id": "fd16b8b9",
   "metadata": {},
   "outputs": [],
   "source": [
    "# Parámetros: input_size, output_size\n",
    "ntm = NeuralTuringMachine(input_size=10, output_size=10)"
   ]
  },
  {
   "cell_type": "code",
   "execution_count": 6,
   "id": "390c783a",
   "metadata": {},
   "outputs": [
    {
     "name": "stdout",
     "output_type": "stream",
     "text": [
      "Salida del modelo:\n",
      " tensor([[-0.0081, -0.0275, -0.0061, -0.0661,  0.0540,  0.0093,  0.0990, -0.0779,\n",
      "         -0.1541,  0.0476]], grad_fn=<AddmmBackward0>)\n",
      "\n",
      "Forma de la salida:\n",
      " torch.Size([1, 10])\n"
     ]
    }
   ],
   "source": [
    "# Entrada dummy de tamaño [1, 10]\n",
    "x = torch.randn(1, 10)\n",
    "\n",
    "# Salida del modelo\n",
    "output = ntm(x)\n",
    "\n",
    "print(\"Salida del modelo:\\n\", output)\n",
    "print(\"\\nForma de la salida:\\n\", output.shape)\n"
   ]
  },
  {
   "cell_type": "code",
   "execution_count": null,
   "id": "2df33fc1",
   "metadata": {},
   "outputs": [],
   "source": []
  }
 ],
 "metadata": {
  "kernelspec": {
   "display_name": "nlp",
   "language": "python",
   "name": "python3"
  },
  "language_info": {
   "codemirror_mode": {
    "name": "ipython",
    "version": 3
   },
   "file_extension": ".py",
   "mimetype": "text/x-python",
   "name": "python",
   "nbconvert_exporter": "python",
   "pygments_lexer": "ipython3",
   "version": "3.10.12"
  }
 },
 "nbformat": 4,
 "nbformat_minor": 5
}
